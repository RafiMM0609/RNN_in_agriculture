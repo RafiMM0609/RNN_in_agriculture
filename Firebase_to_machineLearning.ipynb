{
  "nbformat": 4,
  "nbformat_minor": 0,
  "metadata": {
    "colab": {
      "provenance": [],
      "authorship_tag": "ABX9TyP8Qc8d76hOK7KZ+ZkY78My"
    },
    "kernelspec": {
      "name": "python3",
      "display_name": "Python 3"
    },
    "language_info": {
      "name": "python"
    }
  },
  "cells": [
    {
      "cell_type": "code",
      "execution_count": 2,
      "metadata": {
        "colab": {
          "base_uri": "https://localhost:8080/"
        },
        "id": "Uyg5IkqGxscX",
        "outputId": "5ced7175-6977-4523-8c36-a5d21b84ef18"
      },
      "outputs": [
        {
          "output_type": "stream",
          "name": "stdout",
          "text": [
            "Mounted at /content/drive\n"
          ]
        }
      ],
      "source": [
        "from google.colab import drive\n",
        "drive.mount(\"/content/drive\")"
      ]
    },
    {
      "cell_type": "code",
      "source": [
        "import numpy as np\n",
        "import pandas as pd\n",
        "import matplotlib.pyplot as plt\n",
        "from statsmodels.tsa.stattools import adfuller\n",
        "from statsmodels.graphics.tsaplots import plot_acf, plot_pacf\n",
        "from statsmodels.tsa.arima_model import ARIMA\n",
        "from sklearn.metrics import mean_squared_error\n",
        "\n",
        "#data-new\n",
        "df_new = pd.read_csv('drive/MyDrive/Data/data-new.csv')\n",
        "df_1 = pd.read_csv('drive/MyDrive/Data/dataset-2.csv')\n",
        "df_2 = pd.read_csv('drive/MyDrive/Data/dataset-1.csv')\n",
        "#data-new-mois\n",
        "df_new_mois = pd.read_csv('drive/MyDrive/Data/data-new-mois.csv')\n",
        "#data_1minggu\n",
        "df_27mei = pd.read_csv('drive/MyDrive/Data/data-1-minggu.csv')"
      ],
      "metadata": {
        "id": "hl05VALUx0iC"
      },
      "execution_count": 3,
      "outputs": []
    },
    {
      "cell_type": "code",
      "source": [
        "import firebase_admin\n",
        "from firebase_admin import credentials\n",
        "from firebase_admin import db"
      ],
      "metadata": {
        "id": "nBD0P9tpx3KJ"
      },
      "execution_count": 4,
      "outputs": []
    },
    {
      "cell_type": "code",
      "source": [
        "# Inisialisasi koneksi Firebase\n",
        "cred = credentials.Certificate(\"drive/MyDrive/Data/privat_key.json\")\n",
        "firebase_admin.initialize_app(cred, {\n",
        "    'databaseURL': 'https://npk-monitoring-0518-default-rtdb.asia-southeast1.firebasedatabase.app'\n",
        "})\n",
        "\n",
        "# Dapatkan referensi ke database Firebase\n",
        "ref = db.reference('/')\n"
      ],
      "metadata": {
        "id": "xkE_Tl01x4yB"
      },
      "execution_count": 5,
      "outputs": []
    },
    {
      "cell_type": "code",
      "source": [
        "data = ref.child('UsersData/FQa7cD7I8uY9PO0QdAB0yUWMk2j1/databaru').get()"
      ],
      "metadata": {
        "id": "tA2MxSodx5up"
      },
      "execution_count": 6,
      "outputs": []
    },
    {
      "cell_type": "code",
      "source": [
        "import pandas as pd\n",
        "\n",
        "# Membuat dataframe dari data\n",
        "df = pd.DataFrame.from_dict(data, orient='index')\n",
        "# Menyesuaikan kolom dan baris jika diperlukan\n",
        "# df = df.rename(columns={'old_column_name': 'new_column_name'})\n",
        "# df = df.transpose()"
      ],
      "metadata": {
        "id": "zoLZbmACx7a5"
      },
      "execution_count": 7,
      "outputs": []
    },
    {
      "cell_type": "code",
      "source": [
        "# Mengubah kolom 'col1' menjadi float\n",
        "df['k'] = df['k'].astype(float)\n",
        "df['n'] = df['n'].astype(float)\n",
        "df['p'] = df['p'].astype(float)\n",
        "df['ph'] = df['ph'].astype(float)\n",
        "df['Humidity'] = df['Humidity'].astype(float)\n",
        "df['moisture'] = df['moisture'].astype(float)\n",
        "df['Temperature'] = df['Temperature'].astype(float)\n",
        "\n",
        "# Mengubah kolom 'col2' menjadi datetime64\n",
        "#df['n'] = pd.to_datetime(df['n'])"
      ],
      "metadata": {
        "id": "Z_sxCfCOx9TF"
      },
      "execution_count": 8,
      "outputs": []
    },
    {
      "cell_type": "code",
      "source": [
        "from datetime import datetime\n",
        "import pytz\n",
        "\n",
        "# Mendefinisikan format datetime yang sesuai dengan format timestamp\n",
        "format_str = \"%Y-%m-%dT%H:%M:%S\"\n",
        "\n",
        "# Mengubah setiap elemen dalam Series menjadi objek datetime dengan menggunakan format yang sudah didefinisikan\n",
        "data = df.Timestamp.apply(lambda x: datetime.strptime(x, format_str))\n",
        "\n",
        "# Menentukan timezone WIB menggunakan library pytz\n",
        "#timezone_str = \"Asia/Jakarta\"\n",
        "#timezone_obj = pytz.timezone(timezone_str)\n",
        "\n",
        "# Mengubah timezone dari setiap elemen objek datetime sesuai dengan timezone yang sudah ditentukan\n",
        "# date_time = data.apply(lambda x: timezone_obj.localize(x))"
      ],
      "metadata": {
        "id": "EYErXxA226Ve"
      },
      "execution_count": 9,
      "outputs": []
    },
    {
      "cell_type": "code",
      "source": [
        "df['Timestamp'] = data\n",
        "#df['Timestamp] = date_time"
      ],
      "metadata": {
        "id": "ajEOAog43iP3"
      },
      "execution_count": 10,
      "outputs": []
    },
    {
      "cell_type": "code",
      "source": [
        "# Mengatur kolom \"Timestamp\" sebagai indeks DataFrame\n",
        "df.set_index('Timestamp', inplace=True)"
      ],
      "metadata": {
        "id": "shX46GO_33cD"
      },
      "execution_count": 11,
      "outputs": []
    },
    {
      "cell_type": "markdown",
      "source": [
        "# Pembersihan data NaN PErtama"
      ],
      "metadata": {
        "id": "p_m0I-brDERd"
      }
    },
    {
      "cell_type": "code",
      "source": [
        "#Check nilai NaN\n",
        "df.isna().sum()"
      ],
      "metadata": {
        "id": "W2nIqOlNDL21",
        "colab": {
          "base_uri": "https://localhost:8080/"
        },
        "outputId": "d0fc1b06-2ae1-4d75-caa7-2481fee0def1"
      },
      "execution_count": 13,
      "outputs": [
        {
          "output_type": "execute_result",
          "data": {
            "text/plain": [
              "Humidity       722\n",
              "Temperature    722\n",
              "jam              0\n",
              "k                0\n",
              "moisture         0\n",
              "n                0\n",
              "p                0\n",
              "ph               0\n",
              "tamp             0\n",
              "dtype: int64"
            ]
          },
          "metadata": {},
          "execution_count": 13
        }
      ]
    },
    {
      "cell_type": "code",
      "source": [
        "# Menghapus baris yang mengandung NaN pada kolom 'col1'\n",
        "df = df.dropna(subset=['Humidity'])"
      ],
      "metadata": {
        "id": "X7fAwLi0DwEV"
      },
      "execution_count": 12,
      "outputs": []
    },
    {
      "cell_type": "code",
      "source": [
        "# Menghilangkan tiga kolom\n",
        "columns_to_drop = ['Temperature', 'Humidity', 'jam']\n",
        "df = df.drop(columns=columns_to_drop)"
      ],
      "metadata": {
        "id": "q_AvRMjBDg5d"
      },
      "execution_count": 12,
      "outputs": []
    },
    {
      "cell_type": "markdown",
      "source": [
        "# Deteksi nilai 0"
      ],
      "metadata": {
        "id": "QCE_pNrbEeyQ"
      }
    },
    {
      "cell_type": "code",
      "source": [
        "import math\n",
        "# Mendeteksi nilai float 0.0 menggunakan math.isnan()\n",
        "mask = df['moisture'].apply(lambda x: math.isnan(x) or x == 0.0)\n",
        "\n",
        "# Menampilkan baris yang memiliki nilai float 0.0\n",
        "result = df[mask]\n",
        "print(result)"
      ],
      "metadata": {
        "id": "0UOVtiPsEeC2",
        "colab": {
          "base_uri": "https://localhost:8080/"
        },
        "outputId": "406b0b3a-082e-4784-98a1-ea885abe75ce"
      },
      "execution_count": 13,
      "outputs": [
        {
          "output_type": "stream",
          "name": "stdout",
          "text": [
            "                         k  moisture      n      p    ph        tamp\n",
            "Timestamp                                                           \n",
            "2023-05-30 14:33:00  300.0       0.0  200.0  200.0  4.27  1685432035\n",
            "2023-05-30 14:39:00  300.0       0.0  200.0  200.0  4.27  1685432395\n",
            "2023-05-30 14:45:00  300.0       0.0  200.0  200.0  4.27  1685432756\n",
            "2023-05-30 14:51:00  300.0       0.0  200.0  200.0  4.27  1685433116\n",
            "2023-05-30 14:57:00  300.0       0.0  200.0  200.0  4.27  1685433476\n",
            "2023-05-30 15:03:00  300.0       0.0  200.0  200.0  4.27  1685433837\n",
            "2023-05-30 15:09:00  300.0       0.0  200.0  200.0  4.27  1685434198\n",
            "2023-05-30 15:15:00  300.0       0.0  200.0  200.0  4.27  1685434559\n",
            "2023-05-30 15:21:00  300.0       0.0  200.0  200.0  4.27  1685434919\n",
            "2036-02-07 13:28:00  300.0       0.0  200.0  200.0  4.27  1685435280\n",
            "2023-05-30 15:33:00  300.0       0.0  200.0  200.0  4.27  1685435641\n",
            "2023-05-30 15:39:00  300.0       0.0  200.0  200.0  4.27  1685436001\n",
            "2023-05-30 15:46:00  300.0       0.0  200.0  200.0  4.27  1685436361\n",
            "2023-05-30 15:52:00  300.0       0.0  200.0  200.0  4.27  1685436722\n",
            "2023-05-30 15:58:00  300.0       0.0  200.0  200.0  4.27  1685437082\n",
            "2023-05-30 16:04:00  300.0       0.0  200.0  200.0  4.27  1685437443\n",
            "2023-05-30 16:10:00  300.0       0.0  200.0  200.0  4.27  1685437803\n",
            "2023-05-30 16:16:00  300.0       0.0  200.0  200.0  4.27  1685438164\n",
            "2023-05-30 16:22:00  300.0       0.0  200.0  200.0  4.27  1685438525\n"
          ]
        }
      ]
    },
    {
      "cell_type": "code",
      "source": [
        "import pandas as pd\n",
        "# Menghapus baris dengan nilai float 0.0\n",
        "df = df[(df != 0.0).all(axis=1)]"
      ],
      "metadata": {
        "id": "IDjrfaGBF89b"
      },
      "execution_count": 14,
      "outputs": []
    },
    {
      "cell_type": "markdown",
      "source": [
        "# Pembersihan tahun timestamp yang error"
      ],
      "metadata": {
        "id": "EH4mnzaEH5mI"
      }
    },
    {
      "cell_type": "code",
      "source": [
        "# Menghapus baris dengan timestamp di bawah tahun 2020\n",
        "df_filtered_down = df[df.index.year > 2022]\n",
        "df_filtered_up = df_filtered_down[df_filtered_down.index.year < 2025]\n",
        "\n",
        "# Menampilkan DataFrame setelah penghapusan\n",
        "df = df_filtered_up\n",
        "print(df_filtered_up)"
      ],
      "metadata": {
        "colab": {
          "base_uri": "https://localhost:8080/"
        },
        "id": "Zm78ZXI0H42k",
        "outputId": "ad30048b-e706-4072-8fa5-f09a79a691b4"
      },
      "execution_count": 15,
      "outputs": [
        {
          "output_type": "stream",
          "name": "stdout",
          "text": [
            "                         k  moisture      n      p    ph        tamp\n",
            "Timestamp                                                           \n",
            "2023-06-06 07:12:00  220.0     100.0  108.0  183.0  5.79           0\n",
            "2023-05-30 14:29:00  190.0      94.0   81.0  137.0  6.21  1685431787\n",
            "2023-05-30 16:33:00  152.0      96.0   47.0   80.0  5.31  1685439193\n",
            "2023-05-30 16:39:00  152.0      96.0   47.0   80.0  5.38  1685439554\n",
            "2023-05-30 16:45:00  153.0      96.0   47.0   80.0  5.38  1685439914\n",
            "...                    ...       ...    ...    ...   ...         ...\n",
            "2023-06-12 15:47:00  220.0      78.0  108.0  183.0  5.72  1686559660\n",
            "2023-06-12 15:53:00  220.0      78.0  108.0  183.0  5.72  1686560021\n",
            "2023-06-12 15:59:00  220.0      78.0  108.0  182.0  5.72  1686560381\n",
            "2023-06-12 16:05:00  218.0      78.0  107.0  181.0  5.72  1686560742\n",
            "2023-06-12 16:11:00  218.0      78.0  107.0  181.0  5.72  1686561103\n",
            "\n",
            "[1721 rows x 6 columns]\n"
          ]
        }
      ]
    },
    {
      "cell_type": "code",
      "source": [
        "# Mengubah data per menit menjadi per jam dengan metode resample()\n",
        "df_hourly = df.resample('H').mean()\n",
        "df = df_hourly"
      ],
      "metadata": {
        "id": "xCQth6HkGXTG",
        "colab": {
          "base_uri": "https://localhost:8080/"
        },
        "outputId": "d5da5836-f657-44f1-e3a8-16bad30a1bbd"
      },
      "execution_count": 16,
      "outputs": [
        {
          "output_type": "stream",
          "name": "stderr",
          "text": [
            "<ipython-input-16-fb28ee42a141>:2: FutureWarning: The default value of numeric_only in DataFrameGroupBy.mean is deprecated. In a future version, numeric_only will default to False. Either specify numeric_only or select only columns which should be valid for the function.\n",
            "  df_hourly = df.resample('H').mean()\n"
          ]
        }
      ]
    },
    {
      "cell_type": "code",
      "source": [
        "#Check nilai NaN\n",
        "df.isna().sum()"
      ],
      "metadata": {
        "colab": {
          "base_uri": "https://localhost:8080/"
        },
        "id": "mZ0imsfIE1P3",
        "outputId": "b8f3a4f5-79c3-482b-b103-fba99bcb02bc"
      },
      "execution_count": 17,
      "outputs": [
        {
          "output_type": "execute_result",
          "data": {
            "text/plain": [
              "k           127\n",
              "moisture    127\n",
              "n           127\n",
              "p           127\n",
              "ph          127\n",
              "dtype: int64"
            ]
          },
          "metadata": {},
          "execution_count": 17
        }
      ]
    },
    {
      "cell_type": "code",
      "source": [
        "# Menghapus baris yang mengandung NaN pada kolom 'col1'\n",
        "df = df.dropna(subset=['k'])"
      ],
      "metadata": {
        "id": "GXPUlu7ME2fH"
      },
      "execution_count": 18,
      "outputs": []
    },
    {
      "cell_type": "code",
      "source": [
        "import pandas as pd\n",
        "counter = 0\n",
        "\n",
        "# Buat rentang waktu per jam\n",
        "hourly_range = pd.date_range(start=df.index.min(), end=df.index.max(), freq='H')\n",
        "\n",
        "# Temukan timestamp per jam yang hilang\n",
        "missing_timestamps = hourly_range[~hourly_range.isin(df.index)]\n",
        "\n",
        "# Tambahkan missing_timestamps sebagai index baru pada data frame\n",
        "df = df.reindex(df.index.union(missing_timestamps))\n",
        "\n",
        "for item in missing_timestamps:\n",
        "    print(item)\n",
        "    counter += 1\n",
        "\n",
        "# Tampilkan daftar timestamp per jam yang hilang\n",
        "#print(counter)"
      ],
      "metadata": {
        "id": "pD9YdiFV3nvH"
      },
      "execution_count": null,
      "outputs": []
    },
    {
      "cell_type": "code",
      "source": [
        "# Buat rentang waktu per jam\n",
        "hourly_range = pd.date_range(start=df.index.min(), end=df.index.max(), freq='H')\n",
        "\n",
        "# Reindex DataFrame dengan rentang waktu per jam\n",
        "df = df.reindex(hourly_range)\n",
        "\n",
        "#Hitung rata rata pergerakan bergerak\n",
        "rolling_mean = df['moisture'].rolling(window=3, min_periods=1, center=True).mean()\n",
        "\n",
        "# Isi nilai NaN dengan nilai rata-rata\n",
        "df['moisture'] = df['moisture'].fillna(rolling_mean)\n",
        "df['k'] = df['k'].fillna(rolling_mean)\n",
        "df['n'] = df['n'].fillna(rolling_mean)\n",
        "df['p'] = df['p'].fillna(rolling_mean)\n",
        "df['ph'] = df['ph'].fillna(rolling_mean)\n",
        "#df['Humidity'] = df['Humidity'].fillna(rolling_mean)\n",
        "#df['Temperature'] = df['Temperature'].fillna(rolling_mean)\n",
        "# Isi nilai yang hilang (NaN) dengan forward fill\n",
        "df_filled = df.fillna(method='ffill')\n",
        "\n",
        "# Tampilkan DataFrame setelah pengisian nilai yang hilang\n",
        "print(df_filled)"
      ],
      "metadata": {
        "id": "T3ERlBEEJEfj"
      },
      "execution_count": null,
      "outputs": []
    },
    {
      "cell_type": "code",
      "source": [
        "df = df_filtered"
      ],
      "metadata": {
        "id": "kTD4BbG7apaq"
      },
      "execution_count": null,
      "outputs": []
    },
    {
      "cell_type": "code",
      "source": [
        "import pandas as pd\n",
        "\n",
        "# Menghitung jumlah baris untuk masing-masing proporsi\n",
        "proporsi_1 = 0.64\n",
        "proporsi_2 = 0.1\n",
        "total_baris = len(df)\n",
        "jumlah_baris_1 = int(total_baris * proporsi_1)\n",
        "\n",
        "# Memisahkan DataFrame\n",
        "df1 = df[:jumlah_baris_1]  \n",
        "df2 = df[jumlah_baris_1:]\n",
        "\n",
        "import matplotlib.pyplot as plt\n",
        "df2.plot(subplots=True)\n",
        "fig = plt.figure(figsize=(8, 24)) \n",
        "plt.show()"
      ],
      "metadata": {
        "colab": {
          "base_uri": "https://localhost:8080/",
          "height": 477
        },
        "id": "CeuZYVPAJ15F",
        "outputId": "29aa3b7e-08ce-4519-aa7c-d7aea1a700c1"
      },
      "execution_count": 20,
      "outputs": [
        {
          "output_type": "display_data",
          "data": {
            "text/plain": [
              "<Figure size 640x480 with 5 Axes>"
            ],
            "image/png": "[encoded data removed]"
          },
          "metadata": {}
        },
        {
          "output_type": "display_data",
          "data": {
            "text/plain": [
              "<Figure size 800x2400 with 0 Axes>"
            ]
          },
          "metadata": {}
        }
      ]
    },
    {
      "cell_type": "code",
      "source": [
        "#Hitung rata rata pergerakan bergerak\n",
        "rolling_mois = df2['moisture'].rolling(window=3, min_periods=1, center=True).mean()\n",
        "rolling_k = df2['k'].rolling(window=3, min_periods=1, center=True).mean()\n",
        "rolling_n = df2['n'].rolling(window=3, min_periods=1, center=True).mean()\n",
        "rolling_p = df2['p'].rolling(window=3, min_periods=1, center=True).mean()\n",
        "rolling_ph = df2['ph'].rolling(window=3, min_periods=1, center=True).mean()\n",
        "\n",
        "# Isi nilai NaN dengan nilai rata-rata\n",
        "df2['moisture'] = df2['moisture'].fillna(rolling_mois)\n",
        "df2['k'] = df2['k'].fillna(rolling_k)\n",
        "df2['n'] = df2['n'].fillna(rolling_n)\n",
        "df2['p'] = df2['p'].fillna(rolling_p)\n",
        "df2['ph'] = df2['ph'].fillna(rolling_ph)\n",
        "df_filled = df2.fillna(method='ffill')\n",
        "\n",
        "#print(df_filled)"
      ],
      "metadata": {
        "id": "aodKrEzjHATC"
      },
      "execution_count": null,
      "outputs": []
    },
    {
      "cell_type": "code",
      "source": [
        "import matplotlib.pyplot as plt\n",
        "df_filled.plot(subplots=True)\n",
        "fig = plt.figure(figsize=(8, 24)) \n",
        "plt.show()"
      ],
      "metadata": {
        "colab": {
          "base_uri": "https://localhost:8080/",
          "height": 477
        },
        "id": "JSIqUVqvHVVy",
        "outputId": "356e5cd0-c510-4e17-bffc-1a149486132b"
      },
      "execution_count": 22,
      "outputs": [
        {
          "output_type": "display_data",
          "data": {
            "text/plain": [
              "<Figure size 640x480 with 5 Axes>"
            ],
            "image/png": "[encoded data removed]"
          },
          "metadata": {}
        },
        {
          "output_type": "display_data",
          "data": {
            "text/plain": [
              "<Figure size 800x2400 with 0 Axes>"
            ]
          },
          "metadata": {}
        }
      ]
    },
    {
      "cell_type": "markdown",
      "source": [
        "# Pengujian Algoritma Machine Learning"
      ],
      "metadata": {
        "id": "_NgDGNMNH3pO"
      }
    },
    {
      "cell_type": "markdown",
      "source": [
        "# Simple RNN"
      ],
      "metadata": {
        "id": "05Z8cDHRUgXc"
      }
    },
    {
      "cell_type": "code",
      "source": [
        "import pandas as pd\n",
        "\n",
        "# Menghitung jumlah baris untuk masing-masing proporsi\n",
        "proporsi_1 = 0.7\n",
        "proporsi_2 = 0.1\n",
        "total_baris = len(df_filled)\n",
        "jumlah_baris_1 = int(total_baris * proporsi_1)\n",
        "\n",
        "# Memisahkan DataFrame\n",
        "df1 = df_filled[:jumlah_baris_1]  \n",
        "df2 = df_filled[jumlah_baris_1:]\n",
        "\n",
        "#print(df1)"
      ],
      "metadata": {
        "id": "405elmRK3tgX"
      },
      "execution_count": 23,
      "outputs": []
    },
    {
      "cell_type": "code",
      "source": [
        "# Menghapus baris yang mengandung NaN pada kolom 'col1'\n",
        "df1 = df1.dropna(subset=['moisture'])"
      ],
      "metadata": {
        "id": "8kcdpTvo3tgY"
      },
      "execution_count": 24,
      "outputs": []
    },
    {
      "cell_type": "code",
      "source": [
        "df_aktual = df2\n",
        "df_dataset = df1"
      ],
      "metadata": {
        "id": "fYtT1dfb3tgY"
      },
      "execution_count": 25,
      "outputs": []
    },
    {
      "cell_type": "code",
      "source": [
        "y_act = df_aktual ['moisture']"
      ],
      "metadata": {
        "id": "pKy7Rf-63tgZ"
      },
      "execution_count": 26,
      "outputs": []
    },
    {
      "cell_type": "code",
      "source": [
        "import numpy as np\n",
        "import pandas as pd\n",
        "from tensorflow.keras.models import Sequential\n",
        "from tensorflow.keras.layers import SimpleRNN, Dense"
      ],
      "metadata": {
        "id": "6W30b8SW2vaD"
      },
      "execution_count": 27,
      "outputs": []
    },
    {
      "cell_type": "code",
      "source": [
        "from sklearn.preprocessing import MinMaxScaler\n",
        "\n",
        "scaler = MinMaxScaler()\n",
        "df_dataset['normalized_value'] = scaler.fit_transform(df_dataset['moisture'].values.reshape(-1, 1))  # Ganti 'value' dengan kolom nilai yang ingin Anda normalisasi"
      ],
      "metadata": {
        "id": "ecGMOx6C2vaE"
      },
      "execution_count": 28,
      "outputs": []
    },
    {
      "cell_type": "code",
      "source": [
        "train_size = int(0.8 * len(df_dataset)) \n",
        "train_data = df_dataset.iloc[:train_size]\n",
        "test_data = df_dataset.iloc[train_size:]"
      ],
      "metadata": {
        "id": "FF7cjTHT77_D"
      },
      "execution_count": 29,
      "outputs": []
    },
    {
      "cell_type": "code",
      "source": [
        "def create_sequences(X, y, time_steps=1):\n",
        "    Xs, ys = [], []\n",
        "    for i in range(len(X) - time_steps):\n",
        "        Xs.append(X.iloc[i:(i + time_steps)].values)\n",
        "        ys.append(y.iloc[i + time_steps])\n",
        "    return np.array(Xs), np.array(ys)"
      ],
      "metadata": {
        "id": "8jLBoJs-77_Q"
      },
      "execution_count": 30,
      "outputs": []
    },
    {
      "cell_type": "code",
      "source": [
        "time_steps = 3\n",
        "X_train, y_train = create_sequences(train_data['normalized_value'], train_data['normalized_value'], time_steps)\n",
        "X_test, y_test = create_sequences(test_data['normalized_value'], test_data['normalized_value'], time_steps)"
      ],
      "metadata": {
        "id": "uPOUylMQ77_R"
      },
      "execution_count": 31,
      "outputs": []
    },
    {
      "cell_type": "code",
      "source": [
        "import numpy as np\n",
        "from tensorflow.keras.models import Model\n",
        "from tensorflow.keras.layers import Input, SimpleRNN, Dense\n",
        "\n",
        "\n",
        "# Input layer\n",
        "inputs = Input(shape=(10, 1))\n",
        "\n",
        "# RNN layer\n",
        "rnn = SimpleRNN(units=32, activation='relu')(inputs)\n",
        "\n",
        "# Output layer\n",
        "outputs = Dense(units=10)(rnn)\n",
        "\n",
        "# Membuat model\n",
        "model = Model(inputs=inputs, outputs=outputs)\n",
        "\n",
        "# Compile model\n",
        "model.compile(optimizer='adam', loss='mean_squared_error')\n",
        "\n",
        "# Melakukan training\n",
        "model.fit(X_train.reshape(0, 0, 1), y_train, epochs=100)\n",
        "\n",
        "# Contoh data testing\n",
        "X_test = np.array([[30, 31, 32, 33, 34, 35, 36, 37, 38, 39]])\n",
        "\n",
        "# Melakukan prediksi\n",
        "predictions = model.predict(X_test.reshape(1, 10, 1))\n",
        "print(predictions)"
      ],
      "metadata": {
        "colab": {
          "base_uri": "https://localhost:8080/",
          "height": 235
        },
        "id": "umQxsmN2jQKD",
        "outputId": "4b5361ce-323b-4a8b-ff51-bbb10d3e4a81"
      },
      "execution_count": 34,
      "outputs": [
        {
          "output_type": "error",
          "ename": "ValueError",
          "evalue": "ignored",
          "traceback": [
            "\u001b[0;31m---------------------------------------------------------------------------\u001b[0m",
            "\u001b[0;31mValueError\u001b[0m                                Traceback (most recent call last)",
            "\u001b[0;32m<ipython-input-34-66e12df80698>\u001b[0m in \u001b[0;36m<cell line: 22>\u001b[0;34m()\u001b[0m\n\u001b[1;32m     20\u001b[0m \u001b[0;34m\u001b[0m\u001b[0m\n\u001b[1;32m     21\u001b[0m \u001b[0;31m# Melakukan training\u001b[0m\u001b[0;34m\u001b[0m\u001b[0;34m\u001b[0m\u001b[0m\n\u001b[0;32m---> 22\u001b[0;31m \u001b[0mmodel\u001b[0m\u001b[0;34m.\u001b[0m\u001b[0mfit\u001b[0m\u001b[0;34m(\u001b[0m\u001b[0mX_train\u001b[0m\u001b[0;34m.\u001b[0m\u001b[0mreshape\u001b[0m\u001b[0;34m(\u001b[0m\u001b[0;36m0\u001b[0m\u001b[0;34m,\u001b[0m \u001b[0;36m0\u001b[0m\u001b[0;34m,\u001b[0m \u001b[0;36m1\u001b[0m\u001b[0;34m)\u001b[0m\u001b[0;34m,\u001b[0m \u001b[0my_train\u001b[0m\u001b[0;34m,\u001b[0m \u001b[0mepochs\u001b[0m\u001b[0;34m=\u001b[0m\u001b[0;36m100\u001b[0m\u001b[0;34m)\u001b[0m\u001b[0;34m\u001b[0m\u001b[0;34m\u001b[0m\u001b[0m\n\u001b[0m\u001b[1;32m     23\u001b[0m \u001b[0;34m\u001b[0m\u001b[0m\n\u001b[1;32m     24\u001b[0m \u001b[0;31m# Contoh data testing\u001b[0m\u001b[0;34m\u001b[0m\u001b[0;34m\u001b[0m\u001b[0m\n",
            "\u001b[0;31mValueError\u001b[0m: cannot reshape array of size 177 into shape (0,0,1)"
          ]
        }
      ]
    },
    {
      "cell_type": "code",
      "source": [
        "import numpy as np\n",
        "from tensorflow.keras.models import Sequential\n",
        "from tensorflow.keras.layers import SimpleRNN, Dense\n",
        "\n",
        "# Langkah 2: Membangun model\n",
        "model = Sequential()\n",
        "model.add(SimpleRNN(units=32, input_shape=(X_train.shape[1], X_train.shape[1])))\n",
        "#X_train.shape[1] adalah jumlah langkah waktu, X_train.shape[1] adalah jumlah fitur\n",
        "\n",
        "#model.add(Dense(units=64, activation='relu'))\n",
        "# Menambahkan layer output\n",
        "model.add(Dense(units=1))  # Contoh: output adalah 1 unit untuk regresi\n",
        "# Tampilkan ringkasan model\n",
        "model.summary()"
      ],
      "metadata": {
        "id": "EONO0PW9_r1s"
      },
      "execution_count": null,
      "outputs": []
    },
    {
      "cell_type": "code",
      "source": [
        "X_train = np.expand_dims(X_train, axis=1)\n",
        "y_train = np.expand_dims(y_train, axis=1)"
      ],
      "metadata": {
        "id": "CTEVs77AhuHh"
      },
      "execution_count": 88,
      "outputs": []
    },
    {
      "cell_type": "code",
      "source": [
        "model.compile(optimizer='adam', loss='mse')\n",
        "\n",
        "\n",
        "model.fit(X_train, y_train, epochs=1, batch_size=1)"
      ],
      "metadata": {
        "colab": {
          "base_uri": "https://localhost:8080/",
          "height": 606
        },
        "id": "QssTGHhfC2fl",
        "outputId": "e1a8527a-a227-48dd-8769-3eb37295820d"
      },
      "execution_count": 90,
      "outputs": [
        {
          "output_type": "error",
          "ename": "ValueError",
          "evalue": "ignored",
          "traceback": [
            "\u001b[0;31m---------------------------------------------------------------------------\u001b[0m",
            "\u001b[0;31mValueError\u001b[0m                                Traceback (most recent call last)",
            "\u001b[0;32m<ipython-input-90-5ee5488f65d7>\u001b[0m in \u001b[0;36m<cell line: 4>\u001b[0;34m()\u001b[0m\n\u001b[1;32m      2\u001b[0m \u001b[0;34m\u001b[0m\u001b[0m\n\u001b[1;32m      3\u001b[0m \u001b[0;34m\u001b[0m\u001b[0m\n\u001b[0;32m----> 4\u001b[0;31m \u001b[0mmodel\u001b[0m\u001b[0;34m.\u001b[0m\u001b[0mfit\u001b[0m\u001b[0;34m(\u001b[0m\u001b[0mX_train\u001b[0m\u001b[0;34m,\u001b[0m \u001b[0my_train\u001b[0m\u001b[0;34m,\u001b[0m \u001b[0mepochs\u001b[0m\u001b[0;34m=\u001b[0m\u001b[0;36m1\u001b[0m\u001b[0;34m,\u001b[0m \u001b[0mbatch_size\u001b[0m\u001b[0;34m=\u001b[0m\u001b[0;36m1\u001b[0m\u001b[0;34m)\u001b[0m\u001b[0;34m\u001b[0m\u001b[0;34m\u001b[0m\u001b[0m\n\u001b[0m",
            "\u001b[0;32m/usr/local/lib/python3.10/dist-packages/keras/utils/traceback_utils.py\u001b[0m in \u001b[0;36merror_handler\u001b[0;34m(*args, **kwargs)\u001b[0m\n\u001b[1;32m     68\u001b[0m             \u001b[0;31m# To get the full stack trace, call:\u001b[0m\u001b[0;34m\u001b[0m\u001b[0;34m\u001b[0m\u001b[0m\n\u001b[1;32m     69\u001b[0m             \u001b[0;31m# `tf.debugging.disable_traceback_filtering()`\u001b[0m\u001b[0;34m\u001b[0m\u001b[0;34m\u001b[0m\u001b[0m\n\u001b[0;32m---> 70\u001b[0;31m             \u001b[0;32mraise\u001b[0m \u001b[0me\u001b[0m\u001b[0;34m.\u001b[0m\u001b[0mwith_traceback\u001b[0m\u001b[0;34m(\u001b[0m\u001b[0mfiltered_tb\u001b[0m\u001b[0;34m)\u001b[0m \u001b[0;32mfrom\u001b[0m \u001b[0;32mNone\u001b[0m\u001b[0;34m\u001b[0m\u001b[0;34m\u001b[0m\u001b[0m\n\u001b[0m\u001b[1;32m     71\u001b[0m         \u001b[0;32mfinally\u001b[0m\u001b[0;34m:\u001b[0m\u001b[0;34m\u001b[0m\u001b[0;34m\u001b[0m\u001b[0m\n\u001b[1;32m     72\u001b[0m             \u001b[0;32mdel\u001b[0m \u001b[0mfiltered_tb\u001b[0m\u001b[0;34m\u001b[0m\u001b[0;34m\u001b[0m\u001b[0m\n",
            "\u001b[0;32m/usr/local/lib/python3.10/dist-packages/keras/engine/training.py\u001b[0m in \u001b[0;36mtf__train_function\u001b[0;34m(iterator)\u001b[0m\n\u001b[1;32m     13\u001b[0m                 \u001b[0;32mtry\u001b[0m\u001b[0;34m:\u001b[0m\u001b[0;34m\u001b[0m\u001b[0;34m\u001b[0m\u001b[0m\n\u001b[1;32m     14\u001b[0m                     \u001b[0mdo_return\u001b[0m \u001b[0;34m=\u001b[0m \u001b[0;32mTrue\u001b[0m\u001b[0;34m\u001b[0m\u001b[0;34m\u001b[0m\u001b[0m\n\u001b[0;32m---> 15\u001b[0;31m                     \u001b[0mretval_\u001b[0m \u001b[0;34m=\u001b[0m \u001b[0mag__\u001b[0m\u001b[0;34m.\u001b[0m\u001b[0mconverted_call\u001b[0m\u001b[0;34m(\u001b[0m\u001b[0mag__\u001b[0m\u001b[0;34m.\u001b[0m\u001b[0mld\u001b[0m\u001b[0;34m(\u001b[0m\u001b[0mstep_function\u001b[0m\u001b[0;34m)\u001b[0m\u001b[0;34m,\u001b[0m \u001b[0;34m(\u001b[0m\u001b[0mag__\u001b[0m\u001b[0;34m.\u001b[0m\u001b[0mld\u001b[0m\u001b[0;34m(\u001b[0m\u001b[0mself\u001b[0m\u001b[0;34m)\u001b[0m\u001b[0;34m,\u001b[0m \u001b[0mag__\u001b[0m\u001b[0;34m.\u001b[0m\u001b[0mld\u001b[0m\u001b[0;34m(\u001b[0m\u001b[0miterator\u001b[0m\u001b[0;34m)\u001b[0m\u001b[0;34m)\u001b[0m\u001b[0;34m,\u001b[0m \u001b[0;32mNone\u001b[0m\u001b[0;34m,\u001b[0m \u001b[0mfscope\u001b[0m\u001b[0;34m)\u001b[0m\u001b[0;34m\u001b[0m\u001b[0;34m\u001b[0m\u001b[0m\n\u001b[0m\u001b[1;32m     16\u001b[0m                 \u001b[0;32mexcept\u001b[0m\u001b[0;34m:\u001b[0m\u001b[0;34m\u001b[0m\u001b[0;34m\u001b[0m\u001b[0m\n\u001b[1;32m     17\u001b[0m                     \u001b[0mdo_return\u001b[0m \u001b[0;34m=\u001b[0m \u001b[0;32mFalse\u001b[0m\u001b[0;34m\u001b[0m\u001b[0;34m\u001b[0m\u001b[0m\n",
            "\u001b[0;31mValueError\u001b[0m: in user code:\n\n    File \"/usr/local/lib/python3.10/dist-packages/keras/engine/training.py\", line 1284, in train_function  *\n        return step_function(self, iterator)\n    File \"/usr/local/lib/python3.10/dist-packages/keras/engine/training.py\", line 1268, in step_function  **\n        outputs = model.distribute_strategy.run(run_step, args=(data,))\n    File \"/usr/local/lib/python3.10/dist-packages/keras/engine/training.py\", line 1249, in run_step  **\n        outputs = model.train_step(data)\n    File \"/usr/local/lib/python3.10/dist-packages/keras/engine/training.py\", line 1050, in train_step\n        y_pred = self(x, training=True)\n    File \"/usr/local/lib/python3.10/dist-packages/keras/utils/traceback_utils.py\", line 70, in error_handler\n        raise e.with_traceback(filtered_tb) from None\n    File \"/usr/local/lib/python3.10/dist-packages/keras/engine/input_spec.py\", line 298, in assert_input_compatibility\n        raise ValueError(\n\n    ValueError: Input 0 of layer \"sequential_9\" is incompatible with the layer: expected shape=(None, 3, 3), found shape=(1, 1, 3)\n"
          ]
        }
      ]
    },
    {
      "cell_type": "code",
      "source": [
        "model = Sequential()\n",
        "model.add(LSTM(256, input_shape=(time_steps, 1)))  # 64 adalah jumlah unit LSTM, 1 adalah dimensi fitur\n",
        "model.add(Dense(1))  # Keluaran tunggal\n",
        "#epochs=12, batch_size=16\n",
        "model.compile(optimizer='adam', loss='mean_squared_error')  # Anda dapat memilih optimizer dan fungsi kerugian yang sesuai\n",
        "model.fit(X_train, y_train, epochs=10, batch_size=1, verbose=1) # Anda dapat menyesuaikan parameter pelatihan sesuai kebutuhan"
      ],
      "metadata": {
        "id": "c7jscABg2vaG"
      },
      "execution_count": null,
      "outputs": []
    },
    {
      "cell_type": "markdown",
      "source": [
        "# ARIMA"
      ],
      "metadata": {
        "id": "yUjbX00ZN0Uq"
      }
    },
    {
      "cell_type": "code",
      "source": [
        "!pip install pmdarima"
      ],
      "metadata": {
        "id": "vB0riHkh1Y3O",
        "colab": {
          "base_uri": "https://localhost:8080/"
        },
        "outputId": "9e99f013-f29f-401c-c948-3b8cc57b5b54"
      },
      "execution_count": 245,
      "outputs": [
        {
          "output_type": "stream",
          "name": "stdout",
          "text": [
            "Looking in indexes: https://pypi.org/simple, https://us-python.pkg.dev/colab-wheels/public/simple/\n",
            "Requirement already satisfied: pmdarima in /usr/local/lib/python3.10/dist-packages (2.0.3)\n",
            "Requirement already satisfied: joblib>=0.11 in /usr/local/lib/python3.10/dist-packages (from pmdarima) (1.2.0)\n",
            "Requirement already satisfied: Cython!=0.29.18,!=0.29.31,>=0.29 in /usr/local/lib/python3.10/dist-packages (from pmdarima) (0.29.34)\n",
            "Requirement already satisfied: numpy>=1.21.2 in /usr/local/lib/python3.10/dist-packages (from pmdarima) (1.22.4)\n",
            "Requirement already satisfied: pandas>=0.19 in /usr/local/lib/python3.10/dist-packages (from pmdarima) (1.5.3)\n",
            "Requirement already satisfied: scikit-learn>=0.22 in /usr/local/lib/python3.10/dist-packages (from pmdarima) (1.2.2)\n",
            "Requirement already satisfied: scipy>=1.3.2 in /usr/local/lib/python3.10/dist-packages (from pmdarima) (1.10.1)\n",
            "Requirement already satisfied: statsmodels>=0.13.2 in /usr/local/lib/python3.10/dist-packages (from pmdarima) (0.13.5)\n",
            "Requirement already satisfied: urllib3 in /usr/local/lib/python3.10/dist-packages (from pmdarima) (1.26.15)\n",
            "Requirement already satisfied: setuptools!=50.0.0,>=38.6.0 in /usr/local/lib/python3.10/dist-packages (from pmdarima) (67.7.2)\n",
            "Requirement already satisfied: python-dateutil>=2.8.1 in /usr/local/lib/python3.10/dist-packages (from pandas>=0.19->pmdarima) (2.8.2)\n",
            "Requirement already satisfied: pytz>=2020.1 in /usr/local/lib/python3.10/dist-packages (from pandas>=0.19->pmdarima) (2022.7.1)\n",
            "Requirement already satisfied: threadpoolctl>=2.0.0 in /usr/local/lib/python3.10/dist-packages (from scikit-learn>=0.22->pmdarima) (3.1.0)\n",
            "Requirement already satisfied: patsy>=0.5.2 in /usr/local/lib/python3.10/dist-packages (from statsmodels>=0.13.2->pmdarima) (0.5.3)\n",
            "Requirement already satisfied: packaging>=21.3 in /usr/local/lib/python3.10/dist-packages (from statsmodels>=0.13.2->pmdarima) (23.1)\n",
            "Requirement already satisfied: six in /usr/local/lib/python3.10/dist-packages (from patsy>=0.5.2->statsmodels>=0.13.2->pmdarima) (1.16.0)\n"
          ]
        }
      ]
    },
    {
      "cell_type": "code",
      "source": [
        "import pandas as pd\n",
        "\n",
        "# Menghitung jumlah baris untuk masing-masing proporsi\n",
        "proporsi_1 = 0.7\n",
        "proporsi_2 = 0.1\n",
        "total_baris = len(df_filled)\n",
        "jumlah_baris_1 = int(total_baris * proporsi_1)\n",
        "\n",
        "# Memisahkan DataFrame\n",
        "df1 = df_filled[:jumlah_baris_1]  \n",
        "df2 = df_filled[jumlah_baris_1:]\n",
        "\n",
        "#print(df1)"
      ],
      "metadata": {
        "id": "3CExrRDNQIMy"
      },
      "execution_count": null,
      "outputs": []
    },
    {
      "cell_type": "code",
      "source": [
        "# Menghapus baris yang mengandung NaN pada kolom 'col1'\n",
        "df1 = df1.dropna(subset=['moisture'])"
      ],
      "metadata": {
        "id": "k336pn8gQIMz"
      },
      "execution_count": 298,
      "outputs": []
    },
    {
      "cell_type": "code",
      "source": [
        "df_aktual = df2\n",
        "df_dataset = df1"
      ],
      "metadata": {
        "id": "iqCJXw2-QIMz"
      },
      "execution_count": 299,
      "outputs": []
    },
    {
      "cell_type": "code",
      "source": [
        "y_act = df_aktual ['moisture']"
      ],
      "metadata": {
        "id": "H18FeyeQQIM0"
      },
      "execution_count": 300,
      "outputs": []
    },
    {
      "cell_type": "code",
      "source": [
        "import pandas as pd\n",
        "\n",
        "# Menghitung jumlah baris untuk masing-masing proporsi\n",
        "proporsi_1 = 0.4\n",
        "proporsi_2 = 0.1\n",
        "total_baris = len(y_act)\n",
        "jumlah_baris_1 = int(total_baris * proporsi_1)\n",
        "\n",
        "# Memisahkan DataFrame\n",
        "a = y_act[:jumlah_baris_1]  \n",
        "b = y_act[jumlah_baris_1:]"
      ],
      "metadata": {
        "id": "dU5-CYhCTwTV"
      },
      "execution_count": 317,
      "outputs": []
    },
    {
      "cell_type": "code",
      "source": [
        "y_act= a"
      ],
      "metadata": {
        "id": "w4-aEiKIUNck"
      },
      "execution_count": 319,
      "outputs": []
    },
    {
      "cell_type": "code",
      "source": [
        "# Menghilangkan kolom index dan mengubahnya menjadi series\n",
        "y_act = y_act.reset_index(drop=True).squeeze()"
      ],
      "metadata": {
        "id": "A47JkxI8QIM0"
      },
      "execution_count": 320,
      "outputs": []
    },
    {
      "cell_type": "code",
      "source": [
        "import pmdarima as pm\n",
        "from pmdarima import auto_arima\n",
        "from statsmodels.tsa.arima_model import ARIMA\n",
        "\n",
        "model = pm.auto_arima(df_dataset, start_p=0, start_q=0,\n",
        "                      test='adf',       # use adftest to find optimal 'd'\n",
        "                      max_p=10, max_q=10, # maximum p and q\n",
        "                      m=1,              # frequency of series\n",
        "                      d=None,           # let model determine 'd'\n",
        "                      seasonal=False,   # No Seasonality\n",
        "                      start_P=0, \n",
        "                      D=0, \n",
        "                      trace=True,\n",
        "                      error_action='ignore',  \n",
        "                      suppress_warnings=True, \n",
        "                      stepwise=True)\n",
        "\n",
        "print(model.summary())"
      ],
      "metadata": {
        "id": "Mcnd3X_X1f0g",
        "colab": {
          "base_uri": "https://localhost:8080/"
        },
        "outputId": "abd29a68-1f0a-4986-f9b3-418cfcddc53d"
      },
      "execution_count": 302,
      "outputs": [
        {
          "output_type": "stream",
          "name": "stdout",
          "text": [
            "Performing stepwise search to minimize aic\n",
            " ARIMA(0,2,0)(0,0,0)[0] intercept   : AIC=391.173, Time=0.02 sec\n",
            " ARIMA(1,2,0)(0,0,0)[0] intercept   : AIC=358.539, Time=0.04 sec\n",
            " ARIMA(0,2,1)(0,0,0)[0] intercept   : AIC=inf, Time=0.12 sec\n",
            " ARIMA(0,2,0)(0,0,0)[0]             : AIC=389.173, Time=0.02 sec\n",
            " ARIMA(2,2,0)(0,0,0)[0] intercept   : AIC=352.412, Time=0.08 sec\n",
            " ARIMA(3,2,0)(0,0,0)[0] intercept   : AIC=326.552, Time=0.08 sec\n",
            " ARIMA(4,2,0)(0,0,0)[0] intercept   : AIC=328.419, Time=0.11 sec\n",
            " ARIMA(3,2,1)(0,0,0)[0] intercept   : AIC=328.438, Time=0.16 sec\n",
            " ARIMA(2,2,1)(0,0,0)[0] intercept   : AIC=340.606, Time=0.09 sec\n",
            " ARIMA(4,2,1)(0,0,0)[0] intercept   : AIC=330.352, Time=0.38 sec\n",
            " ARIMA(3,2,0)(0,0,0)[0]             : AIC=325.340, Time=0.06 sec\n",
            " ARIMA(2,2,0)(0,0,0)[0]             : AIC=350.807, Time=0.04 sec\n",
            " ARIMA(4,2,0)(0,0,0)[0]             : AIC=327.243, Time=0.10 sec\n",
            " ARIMA(3,2,1)(0,0,0)[0]             : AIC=327.259, Time=0.08 sec\n",
            " ARIMA(2,2,1)(0,0,0)[0]             : AIC=339.527, Time=0.06 sec\n",
            " ARIMA(4,2,1)(0,0,0)[0]             : AIC=329.167, Time=0.43 sec\n",
            "\n",
            "Best model:  ARIMA(3,2,0)(0,0,0)[0]          \n",
            "Total fit time: 1.911 seconds\n",
            "                               SARIMAX Results                                \n",
            "==============================================================================\n",
            "Dep. Variable:                      y   No. Observations:                   76\n",
            "Model:               SARIMAX(3, 2, 0)   Log Likelihood                -158.670\n",
            "Date:                Mon, 12 Jun 2023   AIC                            325.340\n",
            "Time:                        01:52:58   BIC                            334.556\n",
            "Sample:                    06-07-2023   HQIC                           329.016\n",
            "                         - 06-10-2023                                         \n",
            "Covariance Type:                  opg                                         \n",
            "==============================================================================\n",
            "                 coef    std err          z      P>|z|      [0.025      0.975]\n",
            "------------------------------------------------------------------------------\n",
            "ar.L1         -0.9975      0.081    -12.323      0.000      -1.156      -0.839\n",
            "ar.L2         -0.9009      0.083    -10.819      0.000      -1.064      -0.738\n",
            "ar.L3         -0.7411      0.030    -24.976      0.000      -0.799      -0.683\n",
            "sigma2         4.0953      0.332     12.334      0.000       3.445       4.746\n",
            "===================================================================================\n",
            "Ljung-Box (L1) (Q):                   0.02   Jarque-Bera (JB):               201.49\n",
            "Prob(Q):                              0.88   Prob(JB):                         0.00\n",
            "Heteroskedasticity (H):               0.76   Skew:                            -0.11\n",
            "Prob(H) (two-sided):                  0.49   Kurtosis:                        11.08\n",
            "===================================================================================\n",
            "\n",
            "Warnings:\n",
            "[1] Covariance matrix calculated using the outer product of gradients (complex-step).\n"
          ]
        }
      ]
    },
    {
      "cell_type": "code",
      "source": [
        "from statsmodels.tsa.arima.model import ARIMA\n",
        "# Langkah 2: Tentukan parameter ARIMA\n",
        "p = model.get_params()['order'][0]\n",
        "d = model.get_params()['order'][1]\n",
        "q = model.get_params()['order'][2]\n",
        "print(p,d,q)"
      ],
      "metadata": {
        "colab": {
          "base_uri": "https://localhost:8080/"
        },
        "id": "7crKdslgJi8p",
        "outputId": "8a68ac33-ff14-4878-b19f-74a99ff3c486"
      },
      "execution_count": 303,
      "outputs": [
        {
          "output_type": "stream",
          "name": "stdout",
          "text": [
            "3 2 0\n"
          ]
        }
      ]
    },
    {
      "cell_type": "code",
      "source": [
        "import numpy as np\n",
        "import pandas as pd\n",
        "from statsmodels.tsa.arima.model import ARIMA\n",
        "from sklearn.metrics import mean_squared_error\n",
        "\n",
        "# Langkah 1: Persiapkan data\n",
        "data_historis = df_dataset\n",
        "\n",
        "# Langkah 3: Latih model ARIMA\n",
        "model = ARIMA(data_historis, order=(p, d, q))\n",
        "model_fit = model.fit()\n",
        "\n",
        "# Langkah 4: Prediksi nilai di masa depan\n",
        "prediksi = model_fit.forecast(steps=12)\n",
        "# Menghitung RMSE\n",
        "#mse = mean_squared_error(y_act, prediksi)\n",
        "#rmse = np.sqrt(mse)\n",
        "#print(mse)\n",
        "#print(rmse)\n",
        "#print(prediksi)"
      ],
      "metadata": {
        "id": "hhVkQX_PRHyO"
      },
      "execution_count": 304,
      "outputs": []
    },
    {
      "cell_type": "code",
      "source": [
        "# Menghilangkan kolom index dan mengubahnya menjadi series\n",
        "prediksi = prediksi.reset_index(drop=True).squeeze()"
      ],
      "metadata": {
        "id": "nnPZduHPSXl-"
      },
      "execution_count": 305,
      "outputs": []
    },
    {
      "cell_type": "code",
      "source": [
        "# Menampilkan data prediksi pada grafik\n",
        "plt.plot(y_act, label='Aktual')\n",
        "# Menampilkan data prediksi pada grafik\n",
        "plt.plot(prediksi, label='Predicted')\n",
        "\n",
        "# Menampilkan label sumbu dan legenda\n",
        "plt.xlabel('Time')\n",
        "plt.ylabel('Value')\n",
        "plt.legend()\n",
        "fig = plt.figure(figsize=(4, 18))  # Misalnya, ukuran 8x6 inci\n",
        "# Menampilkan grafik\n",
        "plt.show()"
      ],
      "metadata": {
        "colab": {
          "base_uri": "https://localhost:8080/",
          "height": 466
        },
        "id": "I5sJ9dyaRgMt",
        "outputId": "b8035099-5de4-4d9c-808c-8553639e014d"
      },
      "execution_count": 321,
      "outputs": [
        {
          "output_type": "display_data",
          "data": {
            "text/plain": [
              "<Figure size 640x480 with 1 Axes>"
            ],
            "image/png": "[encoded data removed]"
          },
          "metadata": {}
        },
        {
          "output_type": "display_data",
          "data": {
            "text/plain": [
              "<Figure size 400x1800 with 0 Axes>"
            ]
          },
          "metadata": {}
        }
      ]
    },
    {
      "cell_type": "markdown",
      "source": [
        "# RNN LTSM"
      ],
      "metadata": {
        "id": "vUQ7fld8NyeW"
      }
    },
    {
      "cell_type": "code",
      "source": [
        "columns_to_drop = ['n', 'p', 'k', 'ph']\n",
        "df_filled = df_filled.drop(columns=columns_to_drop)"
      ],
      "metadata": {
        "id": "iBHR43BBG38E"
      },
      "execution_count": 123,
      "outputs": []
    },
    {
      "cell_type": "code",
      "source": [
        "import pandas as pd\n",
        "\n",
        "# Menghitung jumlah baris untuk masing-masing proporsi\n",
        "proporsi_1 = 0.9\n",
        "proporsi_2 = 0.1\n",
        "total_baris = len(df_filled)\n",
        "jumlah_baris_1 = int(total_baris * proporsi_1)\n",
        "\n",
        "# Memisahkan DataFrame\n",
        "df1 = df_filled[:jumlah_baris_1]  \n",
        "df2 = df_filled[jumlah_baris_1:]\n",
        "\n",
        "print(df1)"
      ],
      "metadata": {
        "colab": {
          "base_uri": "https://localhost:8080/"
        },
        "id": "kyTOQ2oXHoo8",
        "outputId": "50131f1d-526a-4295-d4b2-42b2e16c67b7"
      },
      "execution_count": 224,
      "outputs": [
        {
          "output_type": "stream",
          "name": "stdout",
          "text": [
            "                      moisture\n",
            "2023-06-07 17:00:00        NaN\n",
            "2023-06-07 18:00:00  51.500000\n",
            "2023-06-07 19:00:00  51.500000\n",
            "2023-06-07 20:00:00  67.000000\n",
            "2023-06-07 21:00:00  67.000000\n",
            "...                        ...\n",
            "2023-06-11 15:00:00  78.900000\n",
            "2023-06-11 16:00:00  79.800000\n",
            "2023-06-11 17:00:00  80.300000\n",
            "2023-06-11 18:00:00  80.000000\n",
            "2023-06-11 19:00:00  80.222222\n",
            "\n",
            "[99 rows x 1 columns]\n"
          ]
        }
      ]
    },
    {
      "cell_type": "code",
      "source": [
        "# Menghapus baris yang mengandung NaN pada kolom 'col1'\n",
        "df1 = df1.dropna(subset=['moisture'])"
      ],
      "metadata": {
        "id": "31mbfOYRJXQe"
      },
      "execution_count": 225,
      "outputs": []
    },
    {
      "cell_type": "code",
      "source": [
        "df_aktual = df2\n",
        "df_dataset = df1"
      ],
      "metadata": {
        "id": "Uj9_KjdFasj5"
      },
      "execution_count": 226,
      "outputs": []
    },
    {
      "cell_type": "code",
      "source": [
        "y_act = df_aktual ['moisture']"
      ],
      "metadata": {
        "id": "T2oWUzBlkQ9N"
      },
      "execution_count": 227,
      "outputs": []
    },
    {
      "cell_type": "code",
      "source": [
        "# Menghilangkan kolom index dan mengubahnya menjadi series\n",
        "y_act = y_act.reset_index(drop=True).squeeze()"
      ],
      "metadata": {
        "id": "6gVNKfv1khdw"
      },
      "execution_count": 228,
      "outputs": []
    },
    {
      "cell_type": "code",
      "source": [
        "import numpy as np\n",
        "import pandas as pd\n",
        "from tensorflow.keras.models import Sequential\n",
        "from tensorflow.keras.layers import LSTM, Dense"
      ],
      "metadata": {
        "id": "mm4Gy38wOuRd"
      },
      "execution_count": 229,
      "outputs": []
    },
    {
      "cell_type": "code",
      "source": [
        "from sklearn.preprocessing import MinMaxScaler\n",
        "\n",
        "scaler = MinMaxScaler()\n",
        "df_dataset['normalized_value'] = scaler.fit_transform(df_dataset['moisture'].values.reshape(-1, 1))  # Ganti 'value' dengan kolom nilai yang ingin Anda normalisasi"
      ],
      "metadata": {
        "id": "7z3J8VSkZxFL"
      },
      "execution_count": 230,
      "outputs": []
    },
    {
      "cell_type": "code",
      "source": [
        "train_size = int(0.8 * len(df_dataset)) \n",
        "train_data = df_dataset.iloc[:train_size]\n",
        "test_data = df_dataset.iloc[train_size:]"
      ],
      "metadata": {
        "id": "1t2GVc-fZ8jw"
      },
      "execution_count": 231,
      "outputs": []
    },
    {
      "cell_type": "code",
      "source": [
        "def create_sequences(X, y, time_steps=1):\n",
        "    Xs, ys = [], []\n",
        "    for i in range(len(X) - time_steps):\n",
        "        Xs.append(X.iloc[i:(i + time_steps)].values)\n",
        "        ys.append(y.iloc[i + time_steps])\n",
        "    return np.array(Xs), np.array(ys)"
      ],
      "metadata": {
        "id": "3PnA1AV_as-T"
      },
      "execution_count": 232,
      "outputs": []
    },
    {
      "cell_type": "code",
      "source": [
        "time_steps = 15  # Jumlah timestep yang akan digunakan oleh LSTM\n",
        "\n",
        "X_train, y_train = create_sequences(train_data['normalized_value'], train_data['normalized_value'], time_steps)\n",
        "X_test, y_test = create_sequences(test_data['normalized_value'], test_data['normalized_value'], time_steps)"
      ],
      "metadata": {
        "id": "GCFx0dHha1du"
      },
      "execution_count": 233,
      "outputs": []
    },
    {
      "cell_type": "code",
      "source": [
        "model = Sequential()\n",
        "model.add(LSTM(256, input_shape=(time_steps, 1)))  # 64 adalah jumlah unit LSTM, 1 adalah dimensi fitur\n",
        "model.add(Dense(1))  # Keluaran tunggal\n",
        "#epochs=12, batch_size=16\n",
        "model.compile(optimizer='adam', loss='mean_squared_error')  # Anda dapat memilih optimizer dan fungsi kerugian yang sesuai\n",
        "model.fit(X_train, y_train, epochs=10, batch_size=1, verbose=1) # Anda dapat menyesuaikan parameter pelatihan sesuai kebutuhan"
      ],
      "metadata": {
        "id": "kTAEbIPNa617",
        "colab": {
          "base_uri": "https://localhost:8080/"
        },
        "outputId": "609a68cb-4a46-4288-ab3d-9d1faa95f272"
      },
      "execution_count": 234,
      "outputs": [
        {
          "output_type": "stream",
          "name": "stdout",
          "text": [
            "Epoch 1/10\n",
            "63/63 [==============================] - 4s 18ms/step - loss: 0.0246\n",
            "Epoch 2/10\n",
            "63/63 [==============================] - 2s 36ms/step - loss: 0.0076\n",
            "Epoch 3/10\n",
            "63/63 [==============================] - 2s 34ms/step - loss: 0.0083\n",
            "Epoch 4/10\n",
            "63/63 [==============================] - 1s 19ms/step - loss: 0.0082\n",
            "Epoch 5/10\n",
            "63/63 [==============================] - 1s 17ms/step - loss: 0.0062\n",
            "Epoch 6/10\n",
            "63/63 [==============================] - 1s 18ms/step - loss: 0.0047\n",
            "Epoch 7/10\n",
            "63/63 [==============================] - 2s 28ms/step - loss: 0.0043\n",
            "Epoch 8/10\n",
            "63/63 [==============================] - 2s 33ms/step - loss: 0.0042\n",
            "Epoch 9/10\n",
            "63/63 [==============================] - 2s 32ms/step - loss: 0.0044\n",
            "Epoch 10/10\n",
            "63/63 [==============================] - 2s 26ms/step - loss: 0.0037\n"
          ]
        },
        {
          "output_type": "execute_result",
          "data": {
            "text/plain": [
              "<keras.callbacks.History at 0x7fe8a71ee2c0>"
            ]
          },
          "metadata": {},
          "execution_count": 234
        }
      ]
    },
    {
      "cell_type": "code",
      "source": [
        "train_loss = model.evaluate(X_train, y_train, verbose=0)\n",
        "test_loss = model.evaluate(X_test, y_test, verbose=0)\n",
        "\n",
        "print(f'Train Loss: {train_loss:.4f}')\n",
        "print(f'Test Loss: {test_loss:.4f}')"
      ],
      "metadata": {
        "id": "q7APK2kcfKKm",
        "colab": {
          "base_uri": "https://localhost:8080/"
        },
        "outputId": "e572e520-868f-4c03-de10-d7a66eca41de"
      },
      "execution_count": 235,
      "outputs": [
        {
          "output_type": "stream",
          "name": "stdout",
          "text": [
            "Train Loss: 0.0039\n",
            "Test Loss: 0.0017\n"
          ]
        }
      ]
    },
    {
      "cell_type": "code",
      "source": [
        "future_time_steps = 1 # Jumlah timestep di masa depan yang ingin Anda prediksi\n",
        "\n",
        "future_data = df_dataset.iloc[-time_steps:]  # Mengambil data terakhir sebagai masukan awal\n",
        "\n",
        "X_future, _ = create_sequences(future_data['normalized_value'], future_data['normalized_value'], future_time_steps)\n",
        "future_predictions1 = model.predict(X_future)\n",
        "\n",
        "future_time_steps = 13 # Jumlah timestep di masa depan yang ingin Anda prediksi\n",
        "\n",
        "future_data = df_dataset.iloc[-time_steps:]  # Mengambil data terakhir sebagai masukan awal\n",
        "\n",
        "X_future, _ = create_sequences(future_data['normalized_value'], future_data['normalized_value'], future_time_steps)\n",
        "future_predictions = model.predict(X_future)\n",
        "\n",
        "future_predictions = scaler.inverse_transform(future_predictions.reshape(-1, 1))  # Mengembalikan nilai ke skala asli\n",
        "print(future_predictions)"
      ],
      "metadata": {
        "id": "lsNs1mCrfP6z",
        "colab": {
          "base_uri": "https://localhost:8080/"
        },
        "outputId": "c4c7e810-d1ee-4c04-d480-d8fb9852e74b"
      },
      "execution_count": 242,
      "outputs": [
        {
          "output_type": "stream",
          "name": "stdout",
          "text": [
            "1/1 [==============================] - 0s 25ms/step\n",
            "1/1 [==============================] - 0s 27ms/step\n",
            "[[78.412224]\n",
            " [77.74521 ]]\n"
          ]
        }
      ]
    },
    {
      "cell_type": "code",
      "source": [
        "# Menampilkan data prediksi pada grafik\n",
        "plt.plot(y_act, label='Aktual')\n",
        "# Menampilkan data prediksi pada grafik\n",
        "plt.plot(future_predictions, label='Predicted')\n",
        "\n",
        "# Menampilkan label sumbu dan legenda\n",
        "plt.xlabel('Time')\n",
        "plt.ylabel('Value')\n",
        "plt.legend()\n",
        "fig = plt.figure(figsize=(4, 18))  # Misalnya, ukuran 8x6 inci\n",
        "# Menampilkan grafik\n",
        "plt.show()"
      ],
      "metadata": {
        "id": "ArysOfYwjchi",
        "colab": {
          "base_uri": "https://localhost:8080/",
          "height": 468
        },
        "outputId": "c7145b51-d175-4430-aa6e-3d5c0b41fe3c"
      },
      "execution_count": 243,
      "outputs": [
        {
          "output_type": "display_data",
          "data": {
            "text/plain": [
              "<Figure size 640x480 with 1 Axes>"
            ],
            "image/png": "[encoded data removed]"
          },
          "metadata": {}
        },
        {
          "output_type": "display_data",
          "data": {
            "text/plain": [
              "<Figure size 400x1800 with 0 Axes>"
            ]
          },
          "metadata": {}
        }
      ]
    },
    {
      "cell_type": "code",
      "source": [],
      "metadata": {
        "id": "eI6Zmdt3H88G"
      },
      "execution_count": null,
      "outputs": []
    }
  ]
}